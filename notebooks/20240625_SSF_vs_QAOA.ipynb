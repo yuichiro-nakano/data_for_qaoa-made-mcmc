{
 "cells": [
  {
   "cell_type": "markdown",
   "metadata": {},
   "source": [
    "# SSF-MCMC vs QAOA学習データ"
   ]
  },
  {
   "cell_type": "markdown",
   "metadata": {},
   "source": [
    "すでに行なった実験を設定を修正して再実験。"
   ]
  },
  {
   "cell_type": "markdown",
   "metadata": {},
   "source": [
    "## import"
   ]
  },
  {
   "cell_type": "code",
   "execution_count": 30,
   "metadata": {},
   "outputs": [],
   "source": [
    "import numpy as np\n",
    "import scipy\n",
    "import networkx as nx\n",
    "import matplotlib.pyplot as plt\n",
    "import time\n",
    "from tqdm.notebook import tqdm\n",
    "import torch\n",
    "from torch.autograd import Variable\n",
    "import torch.nn as nn\n",
    "import torch.nn.functional as F\n",
    "import torch.optim as optim\n",
    "\n",
    "from qulacs import QuantumState\n",
    "from skqulacs.circuit import LearningCircuit\n",
    "import qulacsvis as qvis\n",
    "\n",
    "import made\n",
    "import made as MADE\n",
    "import mcmc_function as mcmc\n",
    "import ising_model as ising\n",
    "from ising_model import Ising_model\n",
    "import QAOA_function as qaoa\n",
    "from QAOA_function import QAOA_ansatz\n",
    "\n",
    "plt.rcParams[\"font.family\"] = \"Helvetica\"\n",
    "plt.rcParams['mathtext.fontset'] = 'cm'\n",
    "\n",
    "seed = 729\n",
    "rng = np.random.default_rng(seed)"
   ]
  },
  {
   "cell_type": "markdown",
   "metadata": {},
   "source": [
    "## 1. インスタンス準備"
   ]
  },
  {
   "cell_type": "code",
   "execution_count": 13,
   "metadata": {},
   "outputs": [],
   "source": [
    "n_spin = 10\n",
    "instance = Ising_model(n_spin, seed, type='SK')"
   ]
  },
  {
   "cell_type": "markdown",
   "metadata": {},
   "source": [
    "## 2. 教師データ準備"
   ]
  },
  {
   "cell_type": "markdown",
   "metadata": {},
   "source": [
    "### 設定"
   ]
  },
  {
   "cell_type": "code",
   "execution_count": 26,
   "metadata": {},
   "outputs": [],
   "source": [
    "# MADE\n",
    "n_step = n_spin # 間引きの間隔\n",
    "n_samples = 2 ** n_spin\n",
    "n_data_list = [n_spin, n_spin**2, 2**n_spin]\n",
    "\n",
    "# spectral gap\n",
    "beta_list = np.logspace(-2, 2, 41)"
   ]
  },
  {
   "cell_type": "markdown",
   "metadata": {},
   "source": [
    "### SSF教師データサンプリング"
   ]
  },
  {
   "cell_type": "code",
   "execution_count": 27,
   "metadata": {},
   "outputs": [],
   "source": [
    "# sampling\n",
    "mcmc_data = np.zeros([beta_list.shape[0], n_step*n_samples, n_spin])\n",
    "spin_data = np.zeros([beta_list.shape[0], n_samples, n_spin])\n",
    "\n",
    "j = 0\n",
    "for beta in beta_list:\n",
    "\tinit_spin = mcmc.number_to_spin(rng.integers(0, 2**n_spin), n_spin)\n",
    "\tfor i in range(n_step*n_samples):\n",
    "\t\t# update\n",
    "\t\tif i == 0:\n",
    "\t\t\tmcmc_data[j,0] = mcmc.ssf_update(init_spin, instance, beta, seed)[0]\n",
    "\t\telse:\n",
    "\t\t\tmcmc_data[j,i] = mcmc.ssf_update(mcmc_data[j,i-1], instance, beta, seed)[0]\n",
    "\n",
    "\t\t# data\n",
    "\t\tif i % n_step == n_step-1:\n",
    "\t\t\tspin_data[j,(i//n_step)] = mcmc_data[j,i]\n",
    "\t\n",
    "\tssf_data_id = np.array([mcmc.spin_to_number(spin_data[j,i]) for i in range(spin_data.shape[1])])\n",
    "\tssf_data_nd = np.array([qaoa.number_to_binary(ssf_data_id[i], n_spin) for i in range(ssf_data_id.shape[0])], dtype='float32') # MADEモデルのコードが重み行列をfloat32で記述しているため、データもfloat32に明示的に指定する！\n",
    "\n",
    "\tif j == 0:\n",
    "\t\tssf_data = ssf_data_nd[np.newaxis]\n",
    "\telse:\n",
    "\t\tssf_data = np.concatenate([ssf_data, ssf_data_nd[np.newaxis]])\n",
    "  \n",
    "\tj += 1"
   ]
  },
  {
   "cell_type": "markdown",
   "metadata": {},
   "source": [
    "### 確認"
   ]
  },
  {
   "cell_type": "code",
   "execution_count": 23,
   "metadata": {},
   "outputs": [
    {
     "name": "stdout",
     "output_type": "stream",
     "text": [
      "(41, 1024, 10)\n",
      "float32\n"
     ]
    }
   ],
   "source": [
    "print(ssf_data.shape)\n",
    "print(ssf_data.dtype)"
   ]
  },
  {
   "cell_type": "markdown",
   "metadata": {},
   "source": [
    "### QAOA教師データサンプリング"
   ]
  },
  {
   "cell_type": "code",
   "execution_count": 24,
   "metadata": {},
   "outputs": [
    {
     "name": "stdout",
     "output_type": "stream",
     "text": [
      "Optimization terminated successfully.\n",
      "         Current function value: -4.236847\n",
      "         Iterations: 24\n",
      "         Function evaluations: 341\n",
      "         Gradient evaluations: 31\n"
     ]
    }
   ],
   "source": [
    "# setting\n",
    "prob_hamiltonian = instance.get_hamiltonian()\n",
    "mixer_hamiltonian = qaoa.generate_X_mixer(n_spin)\n",
    "n_layers = 5\n",
    "qaoa_ansatz = QAOA_ansatz(prob_hamiltonian, mixer_hamiltonian, n_layers)\n",
    "\n",
    "def cost(para):\n",
    "    return qaoa.cost_QAOA(prob_hamiltonian, qaoa_ansatz, para)\n",
    "\n",
    "def callback(para):\n",
    "    para_history.append(para)\n",
    "    cost_history.append(cost(para))\n",
    "\n",
    "# running QAOA\n",
    "#init_para = [rng.uniform(0, 2*np.pi) for i in range(2*n_layers)]\n",
    "init_para = [0.2705, -0.5899, 0.4803, -0.4492, 0.5074, -0.3559, 0.5646, -0.2643, 0.6397, -0.1291] #文献におけるSKmodelに対するQAOA(p=5)の固定角\n",
    "para_history = [init_para]\n",
    "cost_history = [cost(init_para)]\n",
    "\n",
    "method = \"BFGS\"\n",
    "options = {\"disp\": True, \"maxiter\": 200, \"gtol\": 1e-6}\n",
    "opt = scipy.optimize.minimize(cost, init_para, \n",
    "                              method=method,\n",
    "                              callback=callback,\n",
    "                              options=options)\n",
    "\n",
    "opt_para = para_history[-1]\n",
    "\n",
    "# sampling QAOA outputs\n",
    "opt_qaoa_data_idx = qaoa.sampling_QAOA(qaoa_ansatz, para_history[-1], n_samples) # optimize parameter\n",
    "fix_qaoa_data_idx = qaoa.sampling_QAOA(qaoa_ansatz, init_para, n_samples) # fixed angle\n",
    "\n",
    "opt_qaoa_data_nd = np.array([qaoa.number_to_binary(opt_qaoa_data_idx[i], n_spin) for i in range(len(opt_qaoa_data_idx))], dtype='float32') # MADEモデルのコードが重み行列をfloat32で記述しているため、データもfloat32に明示的に指定する！\n",
    "fix_qaoa_data_nd = np.array([qaoa.number_to_binary(fix_qaoa_data_idx[i], n_spin) for i in range(len(fix_qaoa_data_idx))], dtype='float32') # MADEモデルのコードが重み行列をfloat32で記述しているため、データもfloat32に明示的に指定する！"
   ]
  },
  {
   "cell_type": "markdown",
   "metadata": {},
   "source": [
    "## 3. MADE学習 & spectral gap計算"
   ]
  },
  {
   "cell_type": "markdown",
   "metadata": {},
   "source": [
    "### 設定"
   ]
  },
  {
   "cell_type": "code",
   "execution_count": 29,
   "metadata": {},
   "outputs": [],
   "source": [
    "hidden_size = int(2 * n_spin)\n",
    "hidden_layers = 2\n",
    "hidden_list = [hidden_size for i in range(hidden_layers)]\n",
    "\n",
    "batchsize = 8\n",
    "lr = 0.005\n",
    "n_epochs = 30"
   ]
  },
  {
   "cell_type": "code",
   "execution_count": 25,
   "metadata": {},
   "outputs": [
    {
     "ename": "NameError",
     "evalue": "name 'n_data_list' is not defined",
     "output_type": "error",
     "traceback": [
      "\u001b[0;31m---------------------------------------------------------------------------\u001b[0m",
      "\u001b[0;31mNameError\u001b[0m                                 Traceback (most recent call last)",
      "Cell \u001b[0;32mIn[25], line 37\u001b[0m\n\u001b[1;32m     34\u001b[0m energy \u001b[38;5;241m=\u001b[39m np\u001b[38;5;241m.\u001b[39marray([ising\u001b[38;5;241m.\u001b[39mspin_energy(ising\u001b[38;5;241m.\u001b[39mnumber_to_spin(i, n_spin), instance) \u001b[38;5;28;01mfor\u001b[39;00m i \u001b[38;5;129;01min\u001b[39;00m \u001b[38;5;28mrange\u001b[39m(\u001b[38;5;241m2\u001b[39m\u001b[38;5;241m*\u001b[39m\u001b[38;5;241m*\u001b[39mn_spin)])\n\u001b[1;32m     36\u001b[0m \u001b[38;5;66;03m# main\u001b[39;00m\n\u001b[0;32m---> 37\u001b[0m \u001b[38;5;28;01mfor\u001b[39;00m j \u001b[38;5;129;01min\u001b[39;00m \u001b[38;5;28mrange\u001b[39m(\u001b[38;5;28mlen\u001b[39m(n_data_list)):\n\u001b[1;32m     38\u001b[0m \tn_data \u001b[38;5;241m=\u001b[39m n_data_list[j]\n\u001b[1;32m     40\u001b[0m \t\u001b[38;5;28;01mfor\u001b[39;00m i \u001b[38;5;129;01min\u001b[39;00m \u001b[38;5;28mrange\u001b[39m(\u001b[38;5;28mlen\u001b[39m(beta_list)):\n",
      "\u001b[0;31mNameError\u001b[0m: name 'n_data_list' is not defined"
     ]
    }
   ],
   "source": [
    "def calc_mh_gap(energy_vector, proposal_mat, beta):\n",
    "    n_state = energy_vector.shape[0]\n",
    "    \n",
    "    P = np.zeros((n_state, n_state))\n",
    "    A = mcmc.calc_boltzmann_mh_acceptance(energy, proposal_mat, beta)\n",
    "    P = proposal_mat * A\n",
    "    np.fill_diagonal(P, 0)\n",
    "    \n",
    "    for i in range(2**n_spin):\n",
    "        P[i,i] = 1 - np.sum(P[:,i])\n",
    "        \n",
    "    return mcmc.spectral_gap(P)\n",
    "\n",
    "def calc_metropolis_gap(energy_vector, proposal_mat, beta):\n",
    "    n_state = energy_vector.shape[0]\n",
    "    \n",
    "    P = np.zeros((n_state, n_state))\n",
    "    A = mcmc.calc_boltzmann_mh_acceptance(energy, beta)\n",
    "    P = proposal_mat * A\n",
    "    np.fill_diagonal(P, 0)\n",
    "    \n",
    "    for i in range(2**n_spin):\n",
    "        P[i,i] = 1 - np.sum(P[:,i])\n",
    "        \n",
    "    return mcmc.spectral_gap(P)\n",
    "\n",
    "# prep\n",
    "ssf_made_gap_list = np.zeros((len(n_data_list), beta_list.shape[0]))\n",
    "opt_qaoa_made_gap_list = np.zeros((len(n_data_list), beta_list.shape[0]))\n",
    "fix_qaoa_made_gap_list = np.zeros((len(n_data_list), beta_list.shape[0]))\n",
    "uni_gap_list = np.zeros((len(n_data_list), beta_list.shape[0]))\n",
    "ssf_gap_list = np.zeros((len(n_data_list), beta_list.shape[0]))\n",
    "\n",
    "energy = np.array([ising.spin_energy(ising.number_to_spin(i, n_spin), instance) for i in range(2**n_spin)])\n",
    "uni_Q = np.ones((2**n_spin, 2**n_spin)) / (2**n_spin) # uniform\n",
    "\n",
    "ssf_Q = np.zeros((2**n_spin, 2**n_spin)) # single spin-flip\n",
    "for i in range(2**n_spin):\n",
    "\tspin = mcmc.number_to_spin(i, n_spin)\n",
    "\tfor j in range(n_spin):\n",
    "\t\tflip_spin = mcmc.single_spin_flip(spin, j)\n",
    "\t\tindex = mcmc.spin_to_number(flip_spin)\n",
    "\t\tssf_Q[index, i] += 1\n",
    "for i in range(2**n_spin):\n",
    "\tssf_Q[:,i] /= np.sum(ssf_Q[:,i])\n",
    "\n",
    "# main\n",
    "for j in range(len(n_data_list)):\n",
    "\tn_data = n_data_list[j]\n",
    " \n",
    "\t# train MADE(QAOA)\n",
    "\topt_qaoa_data_torch = torch.from_numpy(opt_qaoa_data_nd).to(dtype=torch.float32)\n",
    "\topt_qaoa_traindata, opt_qaoa_testdata = torch.utils.data.random_split(dataset=opt_qaoa_data_torch, lengths=[int(0.8*n_data), int(0.2*n_data)], generator=torch.Generator().manual_seed(seed))\n",
    "\tfix_qaoa_data_torch = torch.from_numpy(fix_qaoa_data_nd).to(dtype=torch.float32)\n",
    "\tfix_qaoa_traindata, fix_qaoa_testdata = torch.utils.data.random_split(dataset=fix_qaoa_data_torch, lengths=[int(0.8*n_data), int(0.2*n_data)], generator=torch.Generator().manual_seed(seed))\n",
    " \n",
    "\tmodel_opt_qaoa = MADE(n_spin, hidden_list, n_spin, num_masks=1, natural_ordering=True)\n",
    "\topt_opt_qaoa = torch.optim.Adam(model_opt_qaoa.parameters(), lr=lr, weight_decay=1e-4)\n",
    "\tscheduler_opt_qaoa = torch.optim.lr_scheduler.StepLR(opt_opt_qaoa, step_size=45, gamma=0.1)\n",
    "\n",
    "\tmodel_fix_qaoa = MADE(n_spin, hidden_list, n_spin, num_masks=1, natural_ordering=True)\n",
    "\topt_fix_qaoa = torch.optim.Adam(model_fix_qaoa.parameters(), lr=lr, weight_decay=1e-4)\n",
    "\tscheduler_fix_qaoa = torch.optim.lr_scheduler.StepLR(opt_fix_qaoa, step_size=45, gamma=0.1)\n",
    "\n",
    "\topt_qaoa_testset = torch.utils.data.DataLoader(opt_qaoa_testdata, batch_size=batchsize, shuffle=False)\n",
    "\topt_qaoa_trainset = torch.utils.data.DataLoader(opt_qaoa_traindata, batch_size=batchsize, shuffle=True)\n",
    "\tfix_qaoa_testset = torch.utils.data.DataLoader(fix_qaoa_testdata, batch_size=batchsize, shuffle=False)\n",
    "\tfix_qaoa_trainset = torch.utils.data.DataLoader(fix_qaoa_traindata, batch_size=batchsize, shuffle=True)\n",
    "\n",
    "\tmade.run_train(model_opt_qaoa, opt_qaoa_trainset, opt_qaoa_testset, n_epochs, opt_opt_qaoa, scheduler_opt_qaoa)\n",
    "\tmade.run_train(model_fix_qaoa, fix_qaoa_trainset, fix_qaoa_testset, n_epochs, opt_fix_qaoa ,scheduler_fix_qaoa)\n",
    "\n",
    "\topt_qaoa_pred_dist = made.sampling_MADE(model_opt_qaoa)\n",
    "\tfix_qaoa_pred_dist = made.sampling_MADE(model_fix_qaoa)\n",
    "\t\n",
    "\topt_qaoa_made_Q = np.zeros((2**n_spin, 2**n_spin))\n",
    "\tfix_qaoa_made_Q = np.zeros((2**n_spin, 2**n_spin))\n",
    "\tfor i in range(2**n_spin):\n",
    "\t\topt_qaoa_made_Q[i] = opt_qaoa_pred_dist[i] # MADE(QAOA + opt)\n",
    "\t\tfix_qaoa_made_Q[i] = fix_qaoa_pred_dist[i] # MADE(QAOA + fixed angle)\n",
    "\n",
    "\t# calculation for each beta\n",
    "\tfor i in range(len(beta_list)):\n",
    "\t\tbeta = beta_list[i]\n",
    "\t\n",
    "\t\t# train MADE(SSF)\n",
    "\t\tssf_data_torch = torch.from_numpy(ssf_data_nd[i]).to(dtype=torch.float32)\n",
    "\t\tssf_traindata, ssf_testdata = torch.utils.data.random_split(dataset=ssf_data_torch, lengths=[int(0.8*n_data), int(0.2*n_data)], generator=torch.Generator().manual_seed(seed))\n",
    "\n",
    "\t\tmodel_opt_qaoa = MADE(n_spin, hidden_list, n_spin, num_masks=1, natural_ordering=True)\n",
    "\t\topt_opt_qaoa = torch.optim.Adam(model_opt_qaoa.parameters(), lr=lr, weight_decay=1e-4)\n",
    "\t\tscheduler_opt_qaoa = torch.optim.lr_scheduler.StepLR(opt_opt_qaoa, step_size=45, gamma=0.1)\n",
    "\n",
    "\t\topt_qaoa_testset = torch.utils.data.DataLoader(opt_qaoa_testdata, batch_size=batchsize, shuffle=False)\n",
    "\t\topt_qaoa_trainset = torch.utils.data.DataLoader(opt_qaoa_traindata, batch_size=batchsize, shuffle=True)\n",
    "\n",
    "\t\tmade.run_train(model_opt_qaoa, opt_qaoa_trainset, opt_qaoa_testset, n_epochs, opt_opt_qaoa, scheduler_opt_qaoa)\n",
    "\n",
    "\t\tssf_made_pred_dist = made.sampling_MADE(model_opt_qaoa)\n",
    "\t\tssf_made_Q = np.zeros((2**n_spin, 2**n_spin))\n",
    "\t\tfor i in range(2**n_spin):\n",
    "\t\t\tssf_made_Q[i] = ssf_made_pred_dist[i]\n",
    "\t\n",
    "\t\t# calculate spectral gap\n",
    "\t\tssf_made_gap_list[j,i] = calc_mh_gap(energy, ssf_made_Q, beta)\n",
    "\t\topt_qaoa_made_gap_list[j,i] = calc_mh_gap(energy, opt_qaoa_made_Q, beta)\n",
    "\t\tfix_qaoa_made_gap_list[j,i] = calc_mh_gap(energy, fix_qaoa_made_Q, beta)\n",
    "\t\tuni_gap_list[j,i] = calc_metropolis_gap(energy, uni_Q, beta)\n",
    "\t\tssf_gap_list[j,i] = calc_metropolis_gap(energy, ssf_Q, beta)"
   ]
  }
 ],
 "metadata": {
  "kernelspec": {
   "display_name": "quantum",
   "language": "python",
   "name": "python3"
  },
  "language_info": {
   "codemirror_mode": {
    "name": "ipython",
    "version": 3
   },
   "file_extension": ".py",
   "mimetype": "text/x-python",
   "name": "python",
   "nbconvert_exporter": "python",
   "pygments_lexer": "ipython3",
   "version": "3.11.9"
  }
 },
 "nbformat": 4,
 "nbformat_minor": 2
}
