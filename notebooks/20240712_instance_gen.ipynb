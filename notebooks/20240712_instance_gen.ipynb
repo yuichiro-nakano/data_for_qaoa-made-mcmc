{
 "cells": [
  {
   "cell_type": "markdown",
   "metadata": {},
   "source": [
    "# MCMCシミュレーションのためのインスタンス生成"
   ]
  },
  {
   "cell_type": "markdown",
   "metadata": {},
   "source": [
    "## import"
   ]
  },
  {
   "cell_type": "code",
   "execution_count": 2,
   "metadata": {},
   "outputs": [],
   "source": [
    "import numpy as np\n",
    "from scipy.optimize import minimize\n",
    "from scipy.stats import wasserstein_distance\n",
    "from scipy.special import kl_div\n",
    "import scipy.linalg\n",
    "import matplotlib.pyplot as plt\n",
    "import matplotlib.colors as colors\n",
    "import matplotlib.colorbar as colorbars\n",
    "import matplotlib.gridspec as gridspec\n",
    "import networkx as nx\n",
    "import datetime\n",
    "import os\n",
    "import math\n",
    "import sys\n",
    "import pathlib\n",
    "import pickle\n",
    "#from tqdm.notebook import tqdm # なぜか動かないので一時使用停止\n",
    "from tqdm import tqdm\n",
    "from qulacs import ParametricQuantumCircuit, QuantumState, Observable, QuantumCircuit, PauliOperator, GeneralQuantumOperator\n",
    "from qulacs.state import inner_product\n",
    "import torch\n",
    "from torch.autograd import Variable\n",
    "import torch.nn as nn\n",
    "import torch.nn.functional as F\n",
    "import torch.optim as optim\n",
    "\n",
    "import made as MADE\n",
    "import mcmc_function as mcmc\n",
    "import ising_model as ising\n",
    "from ising_model import Ising_model\n",
    "import QAOA_function as qaoa\n",
    "from QAOA_function import QAOA_ansatz\n",
    "\n",
    "plt.rcParams[\"font.family\"] = \"Helvetica\"\n",
    "plt.rcParams['mathtext.fontset'] = 'cm'\n",
    "\n",
    "#seed = 1454\n",
    "seed = None\n",
    "rng = np.random.default_rng(seed)\n",
    "#torch.manual_seed(seed)"
   ]
  },
  {
   "cell_type": "markdown",
   "metadata": {},
   "source": [
    "## モデルインスタンス生成"
   ]
  },
  {
   "cell_type": "markdown",
   "metadata": {},
   "source": [
    "### setting"
   ]
  },
  {
   "cell_type": "code",
   "execution_count": 3,
   "metadata": {},
   "outputs": [],
   "source": [
    "n_spin = 25\n",
    "path = 'data'\n",
    "folder_name = pathlib.Path(path) #Pathlibオブジェクトの生成"
   ]
  },
  {
   "cell_type": "markdown",
   "metadata": {},
   "source": [
    "### 生成コード"
   ]
  },
  {
   "cell_type": "code",
   "execution_count": 4,
   "metadata": {},
   "outputs": [],
   "source": [
    "instance = Ising_model(n_spin, type='SK')\n",
    "    \n",
    "fname = folder_name.joinpath('{0}_sites_instance.pickle'.format(n_spin))\n",
    "with open(str(fname), mode='wb') as f:\n",
    "    pickle.dump(instance, f)"
   ]
  }
 ],
 "metadata": {
  "kernelspec": {
   "display_name": "quantum",
   "language": "python",
   "name": "python3"
  },
  "language_info": {
   "codemirror_mode": {
    "name": "ipython",
    "version": 3
   },
   "file_extension": ".py",
   "mimetype": "text/x-python",
   "name": "python",
   "nbconvert_exporter": "python",
   "pygments_lexer": "ipython3",
   "version": "3.11.9"
  }
 },
 "nbformat": 4,
 "nbformat_minor": 2
}
