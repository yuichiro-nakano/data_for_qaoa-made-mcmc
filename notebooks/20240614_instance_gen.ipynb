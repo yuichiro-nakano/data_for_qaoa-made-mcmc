{
 "cells": [
  {
   "cell_type": "markdown",
   "metadata": {},
   "source": [
    "# spectral gap生成のためのインスタンスセット生成"
   ]
  },
  {
   "cell_type": "markdown",
   "metadata": {},
   "source": [
    "## import\n"
   ]
  },
  {
   "cell_type": "code",
   "execution_count": 9,
   "metadata": {},
   "outputs": [
    {
     "ename": "NameError",
     "evalue": "name '__file__' is not defined",
     "output_type": "error",
     "traceback": [
      "\u001b[0;31m---------------------------------------------------------------------------\u001b[0m",
      "\u001b[0;31mNameError\u001b[0m                                 Traceback (most recent call last)",
      "Cell \u001b[0;32mIn[9], line 27\u001b[0m\n\u001b[1;32m     24\u001b[0m \u001b[38;5;28;01mimport\u001b[39;00m \u001b[38;5;21;01mtorch\u001b[39;00m\u001b[38;5;21;01m.\u001b[39;00m\u001b[38;5;21;01mnn\u001b[39;00m\u001b[38;5;21;01m.\u001b[39;00m\u001b[38;5;21;01mfunctional\u001b[39;00m \u001b[38;5;28;01mas\u001b[39;00m \u001b[38;5;21;01mF\u001b[39;00m\n\u001b[1;32m     25\u001b[0m \u001b[38;5;28;01mimport\u001b[39;00m \u001b[38;5;21;01mtorch\u001b[39;00m\u001b[38;5;21;01m.\u001b[39;00m\u001b[38;5;21;01moptim\u001b[39;00m \u001b[38;5;28;01mas\u001b[39;00m \u001b[38;5;21;01moptim\u001b[39;00m\n\u001b[0;32m---> 27\u001b[0m sys\u001b[38;5;241m.\u001b[39mpath\u001b[38;5;241m.\u001b[39mappend(os\u001b[38;5;241m.\u001b[39mpath\u001b[38;5;241m.\u001b[39mjoin(os\u001b[38;5;241m.\u001b[39mpath\u001b[38;5;241m.\u001b[39mdirname(\u001b[38;5;18m__file__\u001b[39m), \u001b[38;5;124m'\u001b[39m\u001b[38;5;124m..\u001b[39m\u001b[38;5;124m'\u001b[39m))\n\u001b[1;32m     28\u001b[0m \u001b[38;5;28;01mimport\u001b[39;00m \u001b[38;5;21;01msrc\u001b[39;00m\u001b[38;5;21;01m.\u001b[39;00m\u001b[38;5;21;01mlib\u001b[39;00m\u001b[38;5;21;01m.\u001b[39;00m\u001b[38;5;21;01mmade\u001b[39;00m \u001b[38;5;28;01mas\u001b[39;00m \u001b[38;5;21;01mMADE\u001b[39;00m\n\u001b[1;32m     29\u001b[0m \u001b[38;5;28;01mimport\u001b[39;00m \u001b[38;5;21;01msrc\u001b[39;00m\u001b[38;5;21;01m.\u001b[39;00m\u001b[38;5;21;01mlib\u001b[39;00m\u001b[38;5;21;01m.\u001b[39;00m\u001b[38;5;21;01mmcmc_function\u001b[39;00m \u001b[38;5;28;01mas\u001b[39;00m \u001b[38;5;21;01mmcmc\u001b[39;00m\n",
      "\u001b[0;31mNameError\u001b[0m: name '__file__' is not defined"
     ]
    }
   ],
   "source": [
    "import numpy as np\n",
    "from scipy.optimize import minimize\n",
    "from scipy.stats import wasserstein_distance\n",
    "from scipy.special import kl_div\n",
    "import scipy.linalg\n",
    "import matplotlib.pyplot as plt\n",
    "import matplotlib.colors as colors\n",
    "import matplotlib.colorbar as colorbars\n",
    "import matplotlib.gridspec as gridspec\n",
    "import networkx as nx\n",
    "import datetime\n",
    "import os\n",
    "import math\n",
    "import sys\n",
    "import pathlib\n",
    "import pickle\n",
    "#from tqdm.notebook import tqdm # なぜか動かないので一時使用停止\n",
    "from tqdm import tqdm\n",
    "from qulacs import ParametricQuantumCircuit, QuantumState, Observable, QuantumCircuit, PauliOperator, GeneralQuantumOperator\n",
    "from qulacs.state import inner_product\n",
    "import torch\n",
    "from torch.autograd import Variable\n",
    "import torch.nn as nn\n",
    "import torch.nn.functional as F\n",
    "import torch.optim as optim\n",
    "\n",
    "sys.path.append(os.path.join(os.path.dirname(__file__), '..'))\n",
    "import src.lib.made as MADE\n",
    "import src.lib.mcmc_function as mcmc\n",
    "import src.lib.ising_model as ising\n",
    "from src.lib.ising_model import Ising_model\n",
    "import src.lib.QAOA_function as qaoa\n",
    "from src.lib.QAOA_function import QAOA_ansatz\n",
    "\n",
    "plt.rcParams[\"font.family\"] = \"Helvetica\"\n",
    "plt.rcParams['mathtext.fontset'] = 'cm'\n",
    "\n",
    "seed = 729\n",
    "rng = np.random.default_rng(seed)\n",
    "torch.manual_seed(seed)"
   ]
  },
  {
   "cell_type": "markdown",
   "metadata": {},
   "source": [
    "## モデルインスタンスセット生成"
   ]
  },
  {
   "cell_type": "markdown",
   "metadata": {},
   "source": [
    "### setting"
   ]
  },
  {
   "cell_type": "code",
   "execution_count": 12,
   "metadata": {},
   "outputs": [],
   "source": [
    "n_spin_min = 3\n",
    "n_spin_max = 12\n",
    "n_instance = 100"
   ]
  },
  {
   "cell_type": "markdown",
   "metadata": {},
   "source": [
    "### 生成"
   ]
  },
  {
   "cell_type": "code",
   "execution_count": 13,
   "metadata": {},
   "outputs": [],
   "source": [
    "# instanceフォルダ作成\n",
    "now = datetime.datetime.now()\n",
    "datename = now.strftime('%Y-%m%d-%H%M-%S')\n",
    "path = \"instance_set_{0}\".format(datename)\n",
    "folder_name = pathlib.Path(path) #Pathlibオブジェクトの生成\n",
    "os.makedirs(str(folder_name))\n",
    "\n",
    "# make instances for each size\n",
    "for n_spin in np.arange(n_spin_min, n_spin_max+1):\n",
    "    instance_set = []\n",
    "    \n",
    "    for i in range(n_instance):\n",
    "        instance = Ising_model(n_spin, type='SK')\n",
    "        instance_set.append(instance)\n",
    "        \n",
    "    fname = folder_name.joinpath('{0}_sites_instance_set.pickle'.format(n_spin))\n",
    "    with open(str(fname), mode='wb') as f:\n",
    "        pickle.dump(instance_set, f)"
   ]
  },
  {
   "cell_type": "markdown",
   "metadata": {},
   "source": [
    "## テスト"
   ]
  },
  {
   "cell_type": "code",
   "execution_count": 14,
   "metadata": {},
   "outputs": [
    {
     "name": "stdout",
     "output_type": "stream",
     "text": [
      "100\n",
      "(array([[ 0.00000000e+00,  4.29600225e-02,  1.95034277e-02,\n",
      "         5.01986229e-02, -1.95943248e-01, -1.30911525e-01,\n",
      "        -2.92691735e-01, -5.15599140e-01,  5.39343999e-01,\n",
      "        -7.28401082e-02, -8.25861672e-02,  1.41805056e-01],\n",
      "       [ 0.00000000e+00,  0.00000000e+00, -1.19512406e-01,\n",
      "        -1.36472671e-01, -1.78460044e-01, -2.13301568e-01,\n",
      "         8.60674369e-03,  1.12404879e-02,  5.42668050e-01,\n",
      "         2.82150368e-01, -3.08295988e-04,  2.07802184e-01],\n",
      "       [ 0.00000000e+00,  0.00000000e+00,  0.00000000e+00,\n",
      "        -1.51496827e-01,  9.75750352e-02, -2.78064299e-01,\n",
      "        -1.34921041e-01,  1.00562589e-01, -7.14005810e-02,\n",
      "        -2.44773270e-02, -1.86765262e-01,  3.51145346e-01],\n",
      "       [ 0.00000000e+00,  0.00000000e+00,  0.00000000e+00,\n",
      "         0.00000000e+00, -3.84561588e-01,  5.13286110e-01,\n",
      "        -1.15535206e-01,  6.92012142e-01, -1.59364901e-01,\n",
      "         5.44233888e-01, -4.72315859e-01, -9.27138793e-03],\n",
      "       [ 0.00000000e+00,  0.00000000e+00,  0.00000000e+00,\n",
      "         0.00000000e+00,  0.00000000e+00,  1.98308834e-01,\n",
      "         2.73763068e-01,  1.20576469e-01,  1.98657450e-01,\n",
      "         9.92289132e-02, -3.34457707e-01, -2.55569983e-01],\n",
      "       [ 0.00000000e+00,  0.00000000e+00,  0.00000000e+00,\n",
      "         0.00000000e+00,  0.00000000e+00,  0.00000000e+00,\n",
      "         2.30475262e-01,  9.17323485e-02, -4.43612977e-02,\n",
      "         4.08205278e-01, -1.73339419e-01,  3.50573572e-01],\n",
      "       [ 0.00000000e+00,  0.00000000e+00,  0.00000000e+00,\n",
      "         0.00000000e+00,  0.00000000e+00,  0.00000000e+00,\n",
      "         0.00000000e+00,  1.99043336e-01, -5.60698112e-01,\n",
      "         8.86374632e-03,  2.19081367e-01, -7.61974696e-02],\n",
      "       [ 0.00000000e+00,  0.00000000e+00,  0.00000000e+00,\n",
      "         0.00000000e+00,  0.00000000e+00,  0.00000000e+00,\n",
      "         0.00000000e+00,  0.00000000e+00,  9.57525291e-02,\n",
      "         3.51896665e-01,  1.52085033e-01,  1.62578342e-01],\n",
      "       [ 0.00000000e+00,  0.00000000e+00,  0.00000000e+00,\n",
      "         0.00000000e+00,  0.00000000e+00,  0.00000000e+00,\n",
      "         0.00000000e+00,  0.00000000e+00,  0.00000000e+00,\n",
      "         3.62996280e-02,  1.69146614e-01, -4.85788119e-01],\n",
      "       [ 0.00000000e+00,  0.00000000e+00,  0.00000000e+00,\n",
      "         0.00000000e+00,  0.00000000e+00,  0.00000000e+00,\n",
      "         0.00000000e+00,  0.00000000e+00,  0.00000000e+00,\n",
      "         0.00000000e+00, -3.10381770e-01, -1.52802778e-01],\n",
      "       [ 0.00000000e+00,  0.00000000e+00,  0.00000000e+00,\n",
      "         0.00000000e+00,  0.00000000e+00,  0.00000000e+00,\n",
      "         0.00000000e+00,  0.00000000e+00,  0.00000000e+00,\n",
      "         0.00000000e+00,  0.00000000e+00, -1.92544557e-02],\n",
      "       [ 0.00000000e+00,  0.00000000e+00,  0.00000000e+00,\n",
      "         0.00000000e+00,  0.00000000e+00,  0.00000000e+00,\n",
      "         0.00000000e+00,  0.00000000e+00,  0.00000000e+00,\n",
      "         0.00000000e+00,  0.00000000e+00,  0.00000000e+00]]), [[0, 1], [0, 2], [0, 3], [0, 4], [0, 5], [0, 6], [0, 7], [0, 8], [0, 9], [0, 10], [0, 11], [1, 2], [1, 3], [1, 4], [1, 5], [1, 6], [1, 7], [1, 8], [1, 9], [1, 10], [1, 11], [2, 3], [2, 4], [2, 5], [2, 6], [2, 7], [2, 8], [2, 9], [2, 10], [2, 11], [3, 4], [3, 5], [3, 6], [3, 7], [3, 8], [3, 9], [3, 10], [3, 11], [4, 5], [4, 6], [4, 7], [4, 8], [4, 9], [4, 10], [4, 11], [5, 6], [5, 7], [5, 8], [5, 9], [5, 10], [5, 11], [6, 7], [6, 8], [6, 9], [6, 10], [6, 11], [7, 8], [7, 9], [7, 10], [7, 11], [8, 9], [8, 10], [8, 11], [9, 10], [9, 11], [10, 11]], array([0., 0., 0., 0., 0., 0., 0., 0., 0., 0., 0., 0.]))\n"
     ]
    }
   ],
   "source": [
    "with open(str(fname), 'rb') as f:\n",
    "    instance_set = pickle.load(f)\n",
    "    \n",
    "print(len(instance_set))\n",
    "\n",
    "instance = instance_set[10]\n",
    "print(instance.get_parameter())"
   ]
  },
  {
   "cell_type": "markdown",
   "metadata": {},
   "source": [
    "OK!!"
   ]
  }
 ],
 "metadata": {
  "kernelspec": {
   "display_name": "quantum",
   "language": "python",
   "name": "python3"
  },
  "language_info": {
   "codemirror_mode": {
    "name": "ipython",
    "version": 3
   },
   "file_extension": ".py",
   "mimetype": "text/x-python",
   "name": "python",
   "nbconvert_exporter": "python",
   "pygments_lexer": "ipython3",
   "version": "3.1.-1"
  }
 },
 "nbformat": 4,
 "nbformat_minor": 2
}
