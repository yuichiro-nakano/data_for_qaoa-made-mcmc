{
 "cells": [
  {
   "cell_type": "markdown",
   "metadata": {},
   "source": [
    "# BackPropによるQAOA最適化"
   ]
  },
  {
   "cell_type": "markdown",
   "metadata": {},
   "source": [
    "scikit-qulacsを用いてbackpropによる勾配計算が可能なQAOA回路を作成する。"
   ]
  },
  {
   "cell_type": "markdown",
   "metadata": {},
   "source": [
    "## import"
   ]
  },
  {
   "cell_type": "code",
   "execution_count": 26,
   "metadata": {},
   "outputs": [],
   "source": [
    "import numpy as np\n",
    "import scipy\n",
    "import matplotlib.pyplot as plt\n",
    "import time\n",
    "\n",
    "from qulacs import QuantumState\n",
    "from skqulacs.circuit import LearningCircuit\n",
    "import qulacsvis as qvis\n",
    "\n",
    "import made as MADE\n",
    "import mcmc_function as mcmc\n",
    "import ising_model as ising\n",
    "from ising_model import Ising_model\n",
    "import QAOA_function as qaoa\n",
    "from QAOA_function import QAOA_ansatz\n",
    "\n",
    "plt.rcParams[\"font.family\"] = \"Helvetica\"\n",
    "plt.rcParams['mathtext.fontset'] = 'cm'\n",
    "\n",
    "seed = 729\n",
    "rng = np.random.default_rng(seed)"
   ]
  },
  {
   "cell_type": "markdown",
   "metadata": {},
   "source": [
    "## QAOA回路の定義"
   ]
  },
  {
   "cell_type": "code",
   "execution_count": 32,
   "metadata": {},
   "outputs": [],
   "source": [
    "class QAOA_ansatz_backprop:\t\n",
    "\tdef __init__(self, prob_hamiltonian, mixer_hamiltonian, n_layers):\n",
    "\t\tself.n_qubits = prob_hamiltonian.get_qubit_count()\n",
    "\t\tself.prob_hamiltonian = prob_hamiltonian\n",
    "\t\tself.mixer_hamiltonian = mixer_hamiltonian\n",
    "\t\tself.n_layers = n_layers\n",
    "        \n",
    "\t\tcircuit = LearningCircuit(self.n_qubits)\n",
    "\t\tpara = [0. for i in range(2*self.n_layers)]\n",
    "        \n",
    "        # get pauli data\n",
    "\t\tprob_index_list = []\n",
    "\t\tprob_pauli_id_list = []\n",
    "\t\tprob_coef = []\n",
    "\t\tfor i in range(prob_hamiltonian.get_term_count()):\n",
    "\t\t\tpauli = prob_hamiltonian.get_term(i)\n",
    "\t\t\tprob_index_list.append(pauli.get_index_list())\n",
    "\t\t\tprob_pauli_id_list.append(pauli.get_pauli_id_list())\n",
    "\t\t\tprob_coef.append(pauli.get_coef().real)\n",
    "        \n",
    "\t\tmix_index_list = []\n",
    "\t\tmix_pauli_id_list = []\n",
    "\t\tmix_coef = []\n",
    "\t\tfor i in range(mixer_hamiltonian.get_term_count()):\n",
    "\t\t\tpauli = mixer_hamiltonian.get_term(i)\n",
    "\t\t\tmix_index_list.append(pauli.get_index_list())\n",
    "\t\t\tmix_pauli_id_list.append(pauli.get_pauli_id_list())\n",
    "\t\t\tmix_coef.append(pauli.get_coef().real)\n",
    "        \n",
    "\t\t# generate a parametric quantum circuit\n",
    "\t\tn_prob_terms = self.prob_hamiltonian.get_term_count()\n",
    "\t\tn_mix_terms = self.mixer_hamiltonian.get_term_count()\n",
    "\n",
    "\t\t# init state preparation\n",
    "\t\tfor i in range(self.n_qubits):\n",
    "\t\t\tcircuit.add_H_gate(i)\n",
    "\n",
    "\t\tfor i in range(self.n_layers):\n",
    "\t\t\t# problem hamiotinian\n",
    "\t\t\tfor j in range(n_prob_terms):\n",
    "\t\t\t\tn_body = len(prob_pauli_id_list[j])\n",
    "\n",
    "\t\t\t\t# 2-bodys term\n",
    "\t\t\t\tif n_body == 2:\n",
    "\t\t\t\t\tif j == 0:\n",
    "\t\t\t\t\t\tcircuit.add_CNOT_gate(prob_index_list[j][0], prob_index_list[j][1])\n",
    "\t\t\t\t\t\tgamma = circuit.add_parametric_RZ_gate(prob_index_list[j][1], prob_coef[j]*para[2*i])\n",
    "\t\t\t\t\t\tcircuit.add_CNOT_gate(prob_index_list[j][0], prob_index_list[j][1])\n",
    "\t\t\t\t\telse:\n",
    "\t\t\t\t\t\tcircuit.add_CNOT_gate(prob_index_list[j][0], prob_index_list[j][1])\n",
    "\t\t\t\t\t\tcircuit.add_parametric_RZ_gate(prob_index_list[j][1], prob_coef[j]*para[2*i], share_with=gamma)\n",
    "\t\t\t\t\t\tcircuit.add_CNOT_gate(prob_index_list[j][0], prob_index_list[j][1])\n",
    "\t\t\t\t# 1-body term\n",
    "\t\t\t\tif n_body == 1:\n",
    "\t\t\t\t\tif j == 0:\n",
    "\t\t\t\t\t\tgamma = circuit.add_parametric_RZ_gate(prob_index_list[j][0], prob_coef[j]*para[2*i])   \n",
    "\t\t\t\t\telse:\n",
    "\t\t\t\t\t\tcircuit.add_parametric_RZ_gate(prob_index_list[j][0], prob_coef[j]*para[2*i], share_with=gamma)\n",
    "\n",
    "\t\t\t# mixer hamiltonian\n",
    "\t\t\tfor j in range(n_mix_terms):\n",
    "\t\t\t\tif j == 0:\n",
    "\t\t\t\t\tbeta = circuit.add_parametric_RX_gate(prob_index_list[j][0], prob_coef[j]*para[2*i+1])\n",
    "\t\t\t\telse:\n",
    "\t\t\t\t\tcircuit.add_parametric_RX_gate(prob_index_list[j][0], prob_coef[j]*para[2*i+1], share_with=beta)\n",
    "            \n",
    "\t\tself.circuit = circuit\n",
    "\t\tself.para = para\n",
    "    \n",
    "\tdef get_parameter(self):\n",
    "\t\treturn self.para\n",
    "\n",
    "\tdef get_qulacs_circuit(self):\n",
    "\t\treturn self.circuit.get_circuit_info()\n",
    "\n",
    "\tdef get_skqulacs_circuit(self):\n",
    "\t\treturn self.circuit\n",
    "\n",
    "\tdef get_parameter_count(self):\n",
    "\t\treturn len(self.para)\n",
    "\n",
    "\tdef get_qubit_count(self):\n",
    "\t\treturn self.n_qubits\n",
    "\n",
    "\tdef get_grad(self, para):\n",
    "\t\tinit_state = [0.0 for i in range(len(self.para))]\n",
    "\t\t# set parameter\n",
    "\t\tself.set_parameter(para)\n",
    "\t\treturn self.circuit.backprop(init_state, self.prob_hamiltonian)\n",
    "\n",
    "\tdef set_parameter(self, para):\n",
    "\t\tself.circuit.update_parameters(para)\n",
    "\t\tself.para = para\n",
    "    \n",
    "\tdef run_circuit(self):\n",
    "\t\treturn self.circuit.run()"
   ]
  },
  {
   "cell_type": "markdown",
   "metadata": {},
   "source": [
    "### 回路チェック"
   ]
  },
  {
   "cell_type": "code",
   "execution_count": 33,
   "metadata": {},
   "outputs": [
    {
     "name": "stdout",
     "output_type": "stream",
     "text": [
      "*** Quantum Circuit Info ***\n",
      "# of qubit: 15\n",
      "# of step : 272\n",
      "# of gate : 1740\n",
      "# of 1 qubit gate: 690\n",
      "# of 2 qubit gate: 1050\n",
      "Clifford  : no\n",
      "Gaussian  : no\n",
      "\n",
      "*** Parameter Info ***\n",
      "# of parameter: 675\n",
      "\n"
     ]
    }
   ],
   "source": [
    "n_qubits = 15\n",
    "instance = Ising_model(n_qubits, seed, type='SK')\n",
    "prob_hamiltonian = instance.get_hamiltonian()\n",
    "mixer_hamiltonian = qaoa.generate_X_mixer(n_qubits)\n",
    "\n",
    "n_layers = 5\n",
    "backprop_circuit = QAOA_ansatz_backprop(prob_hamiltonian, mixer_hamiltonian, n_layers)\n",
    "\n",
    "print(backprop_circuit.get_qulacs_circuit())\n",
    "#qvis.circuit_drawer(backprop_circuit.get_qulacs_circuit(), output_method='mpl')"
   ]
  },
  {
   "cell_type": "markdown",
   "metadata": {},
   "source": [
    "## 最適化テスト"
   ]
  },
  {
   "cell_type": "code",
   "execution_count": 36,
   "metadata": {},
   "outputs": [],
   "source": [
    "def cost_QAOA_backprop(prob_hamiltonian, ansatz, para):\n",
    "    n_qubits = ansatz.get_qubit_count()\n",
    "    \n",
    "    # apply QAOA ansatz\n",
    "    ansatz.set_parameter(para)\n",
    "    state = ansatz.run_circuit()\n",
    "    cost_val = prob_hamiltonian.get_expectation_value(state)\n",
    "    \n",
    "    return cost_val\n",
    "\n",
    "def cost(para):\n",
    "\treturn cost_QAOA_backprop(prob_hamiltonian, backprop_circuit, para)\n",
    "\n",
    "init_para = [rng.uniform(0, 2*np.pi) for i in range(backprop_circuit.get_parameter_count())]"
   ]
  },
  {
   "cell_type": "markdown",
   "metadata": {},
   "source": [
    "### 通常の数値微分"
   ]
  },
  {
   "cell_type": "code",
   "execution_count": 37,
   "metadata": {},
   "outputs": [
    {
     "name": "stdout",
     "output_type": "stream",
     "text": [
      "         Current function value: -0.761614\n",
      "         Iterations: 33\n",
      "         Function evaluations: 991\n",
      "         Gradient evaluations: 89\n",
      "time 34.527167081832886 sec\n"
     ]
    },
    {
     "name": "stderr",
     "output_type": "stream",
     "text": [
      "/opt/anaconda3/envs/quantum/lib/python3.11/site-packages/scipy/optimize/_minimize.py:708: OptimizeWarning: Desired error not necessarily achieved due to precision loss.\n",
      "  res = _minimize_bfgs(fun, x0, args, jac, callback, **options)\n"
     ]
    },
    {
     "data": {
      "text/plain": [
       "<matplotlib.legend.Legend at 0x14cbdaa90>"
      ]
     },
     "execution_count": 37,
     "metadata": {},
     "output_type": "execute_result"
    },
    {
     "data": {
      "image/png": "[encoded data removed]",
      "text/plain": [
       "<Figure size 640x480 with 1 Axes>"
      ]
     },
     "metadata": {},
     "output_type": "display_data"
    }
   ],
   "source": [
    "cost_history = []\n",
    "cost_history.append(cost(init_para))\n",
    "method = \"BFGS\"\n",
    "options = {\"disp\": True, \"maxiter\": 200, \"gtol\": 1e-6}\n",
    "\n",
    "st_time = time.time()\n",
    "opt = scipy.optimize.minimize(cost, init_para,\n",
    "                              method=method,\n",
    "                              callback=lambda x: cost_history.append(cost(x)),\n",
    "                              options=options)\n",
    "print(\"time\",time.time()-st_time,\"sec\")\n",
    "\n",
    "plt.rcParams[\"font.size\"] = 18\n",
    "plt.plot(cost_history, color=\"red\", label=\"Finite difference\")\n",
    "plt.xlabel(\"Iteration\")\n",
    "plt.ylabel(\"Energy expectation value\")\n",
    "plt.legend()"
   ]
  },
  {
   "cell_type": "markdown",
   "metadata": {},
   "source": [
    "### backprop"
   ]
  },
  {
   "cell_type": "code",
   "execution_count": 38,
   "metadata": {},
   "outputs": [
    {
     "name": "stdout",
     "output_type": "stream",
     "text": [
      "         Current function value: -0.761614\n",
      "         Iterations: 35\n",
      "         Function evaluations: 83\n",
      "         Gradient evaluations: 73\n",
      "time 17.24061393737793 sec\n"
     ]
    },
    {
     "name": "stderr",
     "output_type": "stream",
     "text": [
      "/opt/anaconda3/envs/quantum/lib/python3.11/site-packages/scipy/optimize/_minimize.py:708: OptimizeWarning: Desired error not necessarily achieved due to precision loss.\n",
      "  res = _minimize_bfgs(fun, x0, args, jac, callback, **options)\n"
     ]
    },
    {
     "data": {
      "text/plain": [
       "<matplotlib.legend.Legend at 0x16a93e590>"
      ]
     },
     "execution_count": 38,
     "metadata": {},
     "output_type": "execute_result"
    },
    {
     "data": {
      "image/png": "[encoded data removed]",
      "text/plain": [
       "<Figure size 640x480 with 1 Axes>"
      ]
     },
     "metadata": {},
     "output_type": "display_data"
    }
   ],
   "source": [
    "cost_history = []\n",
    "cost_history.append(cost(init_para))\n",
    "method = \"BFGS\"\n",
    "options = {\"disp\": True, \"maxiter\": 200, \"gtol\": 1e-6}\n",
    "\n",
    "st_time = time.time()\n",
    "opt = scipy.optimize.minimize(cost, init_para,\n",
    "                              jac=backprop_circuit.get_grad,\n",
    "                              method=method,\n",
    "                              callback=lambda x: cost_history.append(cost(x)),\n",
    "                              options=options)\n",
    "print(\"time\",time.time()-st_time,\"sec\")\n",
    "\n",
    "plt.rcParams[\"font.size\"] = 18\n",
    "plt.plot(cost_history, color=\"red\", label=\"backprop\")\n",
    "plt.xlabel(\"Iteration\")\n",
    "plt.ylabel(\"Energy expectation value\")\n",
    "plt.legend()"
   ]
  },
  {
   "cell_type": "markdown",
   "metadata": {},
   "source": [
    "## 勾配計算テスト"
   ]
  },
  {
   "cell_type": "markdown",
   "metadata": {},
   "source": [
    "### 有限差分用コード"
   ]
  },
  {
   "cell_type": "code",
   "execution_count": 34,
   "metadata": {},
   "outputs": [],
   "source": [
    "def get_gradient(cost, para):\n",
    "    n_para = len(para)\n",
    "    epsilon = 1e-6\n",
    "\n",
    "    gradient = np.array([0.0 for i in range(n_para)])\n",
    "    cost_val = cost(para) \n",
    "\n",
    "    #MPI並列化したいループ\n",
    "    for j in range(n_para):\n",
    "        tmp = para[j]  \n",
    "        para[j] = tmp + epsilon  \n",
    "        plus_epsilon = cost(para)\n",
    "\n",
    "        gradient[j] = (plus_epsilon - cost_val) / epsilon\n",
    "        para[j] = tmp\n",
    "    \n",
    "    return gradient"
   ]
  },
  {
   "cell_type": "markdown",
   "metadata": {},
   "source": [
    "### テスト"
   ]
  },
  {
   "cell_type": "code",
   "execution_count": 35,
   "metadata": {},
   "outputs": [
    {
     "name": "stdout",
     "output_type": "stream",
     "text": [
      "time 0.012798070907592773 sec\n",
      "gradient(diff): [ 0.02834129  1.23394911 -0.06659023 -0.73092333 -2.45157758 -0.18338489\n",
      "  0.98798166  0.08621765  1.06918421  0.08246774]\n",
      "time 0.004536151885986328 sec\n",
      "gradient(backprop): [0.028340445789260357, 1.233948149837162, -0.06659474993287422, -0.7309232997934041, -2.451550893573317, -0.18338430146918155, 0.9879803861640153, 0.0862177476115785, 1.069182946743717, 0.08246783456865388]\n",
      "difference= [8.40972619e-07 9.64827961e-07 4.52476557e-06 3.21218634e-08\n",
      " 2.66832053e-05 5.86306069e-07 1.26998909e-06 9.83693634e-08\n",
      " 1.26470037e-06 9.42653603e-08]\n"
     ]
    }
   ],
   "source": [
    "# setting\n",
    "n_qubits = 10\n",
    "instance = Ising_model(n_qubits, seed, type='SK')\n",
    "prob_hamiltonian = instance.get_hamiltonian()\n",
    "mixer_hamiltonian = qaoa.generate_X_mixer(n_qubits)\n",
    "\n",
    "n_layers = 5\n",
    "backprop_circuit_2 = QAOA_ansatz_backprop(prob_hamiltonian, mixer_hamiltonian, n_layers)\n",
    "\n",
    "# test\n",
    "def cost(para):\n",
    "\treturn cost_QAOA_backprop(prob_hamiltonian, backprop_circuit_2, para)\n",
    "\n",
    "para = [rng.uniform(0, 2*np.pi) for i in range(backprop_circuit.get_parameter_count())]\n",
    "backprop_circuit_2.set_parameter(para)\n",
    "\n",
    "st_time = time.time()\n",
    "grad_diff = get_gradient(cost, para)\n",
    "print(\"time\",time.time()-st_time,\"sec\")\n",
    "print(\"gradient(diff):\",grad_diff)\n",
    "\n",
    "st_time = time.time()\n",
    "grad_bp = backprop_circuit_2.get_grad(para)\n",
    "print(\"time\",time.time()-st_time,\"sec\")\n",
    "print(\"gradient(backprop):\",grad_bp)\n",
    "\n",
    "print(\"difference=\", np.abs(grad_diff-grad_bp))"
   ]
  }
 ],
 "metadata": {
  "kernelspec": {
   "display_name": "quantum",
   "language": "python",
   "name": "python3"
  },
  "language_info": {
   "codemirror_mode": {
    "name": "ipython",
    "version": 3
   },
   "file_extension": ".py",
   "mimetype": "text/x-python",
   "name": "python",
   "nbconvert_exporter": "python",
   "pygments_lexer": "ipython3",
   "version": "3.1.undefined"
  }
 },
 "nbformat": 4,
 "nbformat_minor": 2
}
