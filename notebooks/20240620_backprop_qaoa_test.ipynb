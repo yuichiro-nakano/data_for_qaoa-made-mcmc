{
 "cells": [
  {
   "cell_type": "markdown",
   "metadata": {},
   "source": [
    "# BackPropによるQAOA最適化"
   ]
  },
  {
   "cell_type": "markdown",
   "metadata": {},
   "source": [
    "scikit-qulacsを用いてbackpropによる勾配計算が可能なQAOA回路を作成する。"
   ]
  },
  {
   "cell_type": "markdown",
   "metadata": {},
   "source": [
    "## import"
   ]
  },
  {
   "cell_type": "code",
   "execution_count": 1,
   "metadata": {},
   "outputs": [
    {
     "name": "stdout",
     "output_type": "stream",
     "text": [
      "['/Users/yuichiro_nakano/mydrive/Research/Fujii_Lab/Project/NN_proposal_MCMC_used_QAOA_sample/qaoa-made-mcmc', '/Users/yuichiro_nakano/mydrive/Research/Fujii_Lab/Project/NN_proposal_MCMC_used_QAOA_sample/qaoa-made-mcmc/src/lib', '/opt/anaconda3/envs/quantum/lib/python311.zip', '/opt/anaconda3/envs/quantum/lib/python3.11', '/opt/anaconda3/envs/quantum/lib/python3.11/lib-dynload', '', '/opt/anaconda3/envs/quantum/lib/python3.11/site-packages']\n"
     ]
    }
   ],
   "source": [
    "import numpy as np\n",
    "import scipy\n",
    "import matplotlib.pyplot as plt\n",
    "\n",
    "from skqulacs.circuit import LearningCircuit\n",
    "\n",
    "import made as MADE\n",
    "import mcmc_function as mcmc\n",
    "import ising_model as ising\n",
    "from ising_model import Ising_model\n",
    "import QAOA_function as qaoa\n",
    "from QAOA_function import QAOA_ansatz\n",
    "\n",
    "plt.rcParams[\"font.family\"] = \"Helvetica\"\n",
    "plt.rcParams['mathtext.fontset'] = 'cm'\n",
    "\n",
    "seed = 729\n",
    "rng = np.random.default_rng(seed)"
   ]
  },
  {
   "cell_type": "markdown",
   "metadata": {},
   "source": [
    "## QAOA回路の定義"
   ]
  },
  {
   "cell_type": "code",
   "execution_count": null,
   "metadata": {},
   "outputs": [],
   "source": []
  },
  {
   "cell_type": "markdown",
   "metadata": {},
   "source": [
    "## 勾配計算テスト"
   ]
  },
  {
   "cell_type": "code",
   "execution_count": null,
   "metadata": {},
   "outputs": [],
   "source": []
  }
 ],
 "metadata": {
  "kernelspec": {
   "display_name": "quantum",
   "language": "python",
   "name": "python3"
  },
  "language_info": {
   "codemirror_mode": {
    "name": "ipython",
    "version": 3
   },
   "file_extension": ".py",
   "mimetype": "text/x-python",
   "name": "python",
   "nbconvert_exporter": "python",
   "pygments_lexer": "ipython3",
   "version": "3.11.9"
  }
 },
 "nbformat": 4,
 "nbformat_minor": 2
}
